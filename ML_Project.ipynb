{
  "nbformat": 4,
  "nbformat_minor": 0,
  "metadata": {
    "colab": {
      "name": "ML Project.ipynb",
      "version": "0.3.2",
      "views": {},
      "default_view": {},
      "provenance": []
    }
  },
  "cells": [
    {
      "metadata": {
        "id": "mS6iOQA7DJ_K",
        "colab_type": "text"
      },
      "cell_type": "markdown",
      "source": [
        "# Machine Learning on Costumer Churn"
      ]
    },
    {
      "metadata": {
        "id": "DR1a30aNDaQB",
        "colab_type": "text"
      },
      "cell_type": "markdown",
      "source": [
        "## **1. Define problem**\n",
        "\n",
        "\n",
        "## **2. Summarize data**\n",
        "\n",
        "\n",
        "## **3. Prepare data**\n",
        "\n",
        "\n",
        "## **4. Evaluate Algorithms**\n",
        "\n",
        "\n",
        "## **5. Present Results **\n",
        "\n"
      ]
    },
    {
      "metadata": {
        "id": "4lbblk-CJ1Z5",
        "colab_type": "text"
      },
      "cell_type": "markdown",
      "source": [
        "## 1. Define the problem "
      ]
    },
    {
      "metadata": {
        "id": "Y99tW6TWJ3VD",
        "colab_type": "code",
        "colab": {
          "autoexec": {
            "startup": false,
            "wait_interval": 0
          }
        }
      },
      "cell_type": "code",
      "source": [
        "# Gives tools to organize and analyse the data\n",
        "# pd as shortname convention\n",
        "import pandas as pd"
      ],
      "execution_count": 0,
      "outputs": []
    },
    {
      "metadata": {
        "id": "iKkMxHvFJ4hZ",
        "colab_type": "code",
        "colab": {
          "autoexec": {
            "startup": false,
            "wait_interval": 0
          }
        }
      },
      "cell_type": "code",
      "source": [
        "# Pandas function that loads the data \n",
        "data = pd.read_csv('https://raw.githubusercontent.com/franciscadias/data/master/churn.csv')"
      ],
      "execution_count": 0,
      "outputs": []
    },
    {
      "metadata": {
        "id": "AcDgGGupKRDm",
        "colab_type": "code",
        "colab": {
          "autoexec": {
            "startup": false,
            "wait_interval": 0
          },
          "base_uri": "https://localhost:8080/",
          "height": 306
        },
        "outputId": "8b7a6dd6-cb18-4039-9105-bd3a79a5b49a",
        "executionInfo": {
          "status": "ok",
          "timestamp": 1526389774125,
          "user_tz": -60,
          "elapsed": 438,
          "user": {
            "displayName": "Francisca Dias",
            "photoUrl": "//lh4.googleusercontent.com/-xgs_qST2Bio/AAAAAAAAAAI/AAAAAAAAAAc/1hYdCEXWVto/s50-c-k-no/photo.jpg",
            "userId": "107609291921208954029"
          }
        }
      },
      "cell_type": "code",
      "source": [
        "# pandas method see the first 5 results\n",
        "data.head()"
      ],
      "execution_count": 54,
      "outputs": [
        {
          "output_type": "execute_result",
          "data": {
            "text/html": [
              "<div>\n",
              "<style scoped>\n",
              "    .dataframe tbody tr th:only-of-type {\n",
              "        vertical-align: middle;\n",
              "    }\n",
              "\n",
              "    .dataframe tbody tr th {\n",
              "        vertical-align: top;\n",
              "    }\n",
              "\n",
              "    .dataframe thead th {\n",
              "        text-align: right;\n",
              "    }\n",
              "</style>\n",
              "<table border=\"1\" class=\"dataframe\">\n",
              "  <thead>\n",
              "    <tr style=\"text-align: right;\">\n",
              "      <th></th>\n",
              "      <th>State</th>\n",
              "      <th>Account Length</th>\n",
              "      <th>Area Code</th>\n",
              "      <th>Phone</th>\n",
              "      <th>Int'l Plan</th>\n",
              "      <th>VMail Plan</th>\n",
              "      <th>VMail Message</th>\n",
              "      <th>Day Mins</th>\n",
              "      <th>Day Calls</th>\n",
              "      <th>Day Charge</th>\n",
              "      <th>Eve Mins</th>\n",
              "      <th>Eve Calls</th>\n",
              "      <th>Eve Charge</th>\n",
              "      <th>Night Mins</th>\n",
              "      <th>Night Calls</th>\n",
              "      <th>Night Charge</th>\n",
              "      <th>Intl Mins</th>\n",
              "      <th>Intl Calls</th>\n",
              "      <th>Intl Charge</th>\n",
              "      <th>CustServ Calls</th>\n",
              "      <th>Churn?</th>\n",
              "    </tr>\n",
              "  </thead>\n",
              "  <tbody>\n",
              "    <tr>\n",
              "      <th>0</th>\n",
              "      <td>KS</td>\n",
              "      <td>128</td>\n",
              "      <td>415</td>\n",
              "      <td>382-4657</td>\n",
              "      <td>no</td>\n",
              "      <td>yes</td>\n",
              "      <td>25</td>\n",
              "      <td>265.1</td>\n",
              "      <td>110</td>\n",
              "      <td>45.07</td>\n",
              "      <td>197.4</td>\n",
              "      <td>99</td>\n",
              "      <td>16.78</td>\n",
              "      <td>244.7</td>\n",
              "      <td>91</td>\n",
              "      <td>11.01</td>\n",
              "      <td>10.0</td>\n",
              "      <td>3</td>\n",
              "      <td>2.70</td>\n",
              "      <td>1</td>\n",
              "      <td>False.</td>\n",
              "    </tr>\n",
              "    <tr>\n",
              "      <th>1</th>\n",
              "      <td>OH</td>\n",
              "      <td>107</td>\n",
              "      <td>415</td>\n",
              "      <td>371-7191</td>\n",
              "      <td>no</td>\n",
              "      <td>yes</td>\n",
              "      <td>26</td>\n",
              "      <td>161.6</td>\n",
              "      <td>123</td>\n",
              "      <td>27.47</td>\n",
              "      <td>195.5</td>\n",
              "      <td>103</td>\n",
              "      <td>16.62</td>\n",
              "      <td>254.4</td>\n",
              "      <td>103</td>\n",
              "      <td>11.45</td>\n",
              "      <td>13.7</td>\n",
              "      <td>3</td>\n",
              "      <td>3.70</td>\n",
              "      <td>1</td>\n",
              "      <td>False.</td>\n",
              "    </tr>\n",
              "    <tr>\n",
              "      <th>2</th>\n",
              "      <td>NJ</td>\n",
              "      <td>137</td>\n",
              "      <td>415</td>\n",
              "      <td>358-1921</td>\n",
              "      <td>no</td>\n",
              "      <td>no</td>\n",
              "      <td>0</td>\n",
              "      <td>243.4</td>\n",
              "      <td>114</td>\n",
              "      <td>41.38</td>\n",
              "      <td>121.2</td>\n",
              "      <td>110</td>\n",
              "      <td>10.30</td>\n",
              "      <td>162.6</td>\n",
              "      <td>104</td>\n",
              "      <td>7.32</td>\n",
              "      <td>12.2</td>\n",
              "      <td>5</td>\n",
              "      <td>3.29</td>\n",
              "      <td>0</td>\n",
              "      <td>False.</td>\n",
              "    </tr>\n",
              "    <tr>\n",
              "      <th>3</th>\n",
              "      <td>OH</td>\n",
              "      <td>84</td>\n",
              "      <td>408</td>\n",
              "      <td>375-9999</td>\n",
              "      <td>yes</td>\n",
              "      <td>no</td>\n",
              "      <td>0</td>\n",
              "      <td>299.4</td>\n",
              "      <td>71</td>\n",
              "      <td>50.90</td>\n",
              "      <td>61.9</td>\n",
              "      <td>88</td>\n",
              "      <td>5.26</td>\n",
              "      <td>196.9</td>\n",
              "      <td>89</td>\n",
              "      <td>8.86</td>\n",
              "      <td>6.6</td>\n",
              "      <td>7</td>\n",
              "      <td>1.78</td>\n",
              "      <td>2</td>\n",
              "      <td>False.</td>\n",
              "    </tr>\n",
              "    <tr>\n",
              "      <th>4</th>\n",
              "      <td>OK</td>\n",
              "      <td>75</td>\n",
              "      <td>415</td>\n",
              "      <td>330-6626</td>\n",
              "      <td>yes</td>\n",
              "      <td>no</td>\n",
              "      <td>0</td>\n",
              "      <td>166.7</td>\n",
              "      <td>113</td>\n",
              "      <td>28.34</td>\n",
              "      <td>148.3</td>\n",
              "      <td>122</td>\n",
              "      <td>12.61</td>\n",
              "      <td>186.9</td>\n",
              "      <td>121</td>\n",
              "      <td>8.41</td>\n",
              "      <td>10.1</td>\n",
              "      <td>3</td>\n",
              "      <td>2.73</td>\n",
              "      <td>3</td>\n",
              "      <td>False.</td>\n",
              "    </tr>\n",
              "  </tbody>\n",
              "</table>\n",
              "</div>"
            ],
            "text/plain": [
              "  State  Account Length  Area Code     Phone Int'l Plan VMail Plan  \\\n",
              "0    KS             128        415  382-4657         no        yes   \n",
              "1    OH             107        415  371-7191         no        yes   \n",
              "2    NJ             137        415  358-1921         no         no   \n",
              "3    OH              84        408  375-9999        yes         no   \n",
              "4    OK              75        415  330-6626        yes         no   \n",
              "\n",
              "   VMail Message  Day Mins  Day Calls  Day Charge  Eve Mins  Eve Calls  \\\n",
              "0             25     265.1        110       45.07     197.4         99   \n",
              "1             26     161.6        123       27.47     195.5        103   \n",
              "2              0     243.4        114       41.38     121.2        110   \n",
              "3              0     299.4         71       50.90      61.9         88   \n",
              "4              0     166.7        113       28.34     148.3        122   \n",
              "\n",
              "   Eve Charge  Night Mins  Night Calls  Night Charge  Intl Mins  Intl Calls  \\\n",
              "0       16.78       244.7           91         11.01       10.0           3   \n",
              "1       16.62       254.4          103         11.45       13.7           3   \n",
              "2       10.30       162.6          104          7.32       12.2           5   \n",
              "3        5.26       196.9           89          8.86        6.6           7   \n",
              "4       12.61       186.9          121          8.41       10.1           3   \n",
              "\n",
              "   Intl Charge  CustServ Calls  Churn?  \n",
              "0         2.70               1  False.  \n",
              "1         3.70               1  False.  \n",
              "2         3.29               0  False.  \n",
              "3         1.78               2  False.  \n",
              "4         2.73               3  False.  "
            ]
          },
          "metadata": {
            "tags": []
          },
          "execution_count": 54
        }
      ]
    },
    {
      "metadata": {
        "id": "_nCo-6KVKYMu",
        "colab_type": "code",
        "colab": {
          "autoexec": {
            "startup": false,
            "wait_interval": 0
          },
          "base_uri": "https://localhost:8080/",
          "height": 306
        },
        "outputId": "889b276b-41a7-4ee1-be5c-9810340ca6ae",
        "executionInfo": {
          "status": "ok",
          "timestamp": 1526389774675,
          "user_tz": -60,
          "elapsed": 432,
          "user": {
            "displayName": "Francisca Dias",
            "photoUrl": "//lh4.googleusercontent.com/-xgs_qST2Bio/AAAAAAAAAAI/AAAAAAAAAAc/1hYdCEXWVto/s50-c-k-no/photo.jpg",
            "userId": "107609291921208954029"
          }
        }
      },
      "cell_type": "code",
      "source": [
        "# see the last 5 results\n",
        "data.tail()"
      ],
      "execution_count": 55,
      "outputs": [
        {
          "output_type": "execute_result",
          "data": {
            "text/html": [
              "<div>\n",
              "<style scoped>\n",
              "    .dataframe tbody tr th:only-of-type {\n",
              "        vertical-align: middle;\n",
              "    }\n",
              "\n",
              "    .dataframe tbody tr th {\n",
              "        vertical-align: top;\n",
              "    }\n",
              "\n",
              "    .dataframe thead th {\n",
              "        text-align: right;\n",
              "    }\n",
              "</style>\n",
              "<table border=\"1\" class=\"dataframe\">\n",
              "  <thead>\n",
              "    <tr style=\"text-align: right;\">\n",
              "      <th></th>\n",
              "      <th>State</th>\n",
              "      <th>Account Length</th>\n",
              "      <th>Area Code</th>\n",
              "      <th>Phone</th>\n",
              "      <th>Int'l Plan</th>\n",
              "      <th>VMail Plan</th>\n",
              "      <th>VMail Message</th>\n",
              "      <th>Day Mins</th>\n",
              "      <th>Day Calls</th>\n",
              "      <th>Day Charge</th>\n",
              "      <th>Eve Mins</th>\n",
              "      <th>Eve Calls</th>\n",
              "      <th>Eve Charge</th>\n",
              "      <th>Night Mins</th>\n",
              "      <th>Night Calls</th>\n",
              "      <th>Night Charge</th>\n",
              "      <th>Intl Mins</th>\n",
              "      <th>Intl Calls</th>\n",
              "      <th>Intl Charge</th>\n",
              "      <th>CustServ Calls</th>\n",
              "      <th>Churn?</th>\n",
              "    </tr>\n",
              "  </thead>\n",
              "  <tbody>\n",
              "    <tr>\n",
              "      <th>3328</th>\n",
              "      <td>AZ</td>\n",
              "      <td>192</td>\n",
              "      <td>415</td>\n",
              "      <td>414-4276</td>\n",
              "      <td>no</td>\n",
              "      <td>yes</td>\n",
              "      <td>36</td>\n",
              "      <td>156.2</td>\n",
              "      <td>77</td>\n",
              "      <td>26.55</td>\n",
              "      <td>215.5</td>\n",
              "      <td>126</td>\n",
              "      <td>18.32</td>\n",
              "      <td>279.1</td>\n",
              "      <td>83</td>\n",
              "      <td>12.56</td>\n",
              "      <td>9.9</td>\n",
              "      <td>6</td>\n",
              "      <td>2.67</td>\n",
              "      <td>2</td>\n",
              "      <td>False.</td>\n",
              "    </tr>\n",
              "    <tr>\n",
              "      <th>3329</th>\n",
              "      <td>WV</td>\n",
              "      <td>68</td>\n",
              "      <td>415</td>\n",
              "      <td>370-3271</td>\n",
              "      <td>no</td>\n",
              "      <td>no</td>\n",
              "      <td>0</td>\n",
              "      <td>231.1</td>\n",
              "      <td>57</td>\n",
              "      <td>39.29</td>\n",
              "      <td>153.4</td>\n",
              "      <td>55</td>\n",
              "      <td>13.04</td>\n",
              "      <td>191.3</td>\n",
              "      <td>123</td>\n",
              "      <td>8.61</td>\n",
              "      <td>9.6</td>\n",
              "      <td>4</td>\n",
              "      <td>2.59</td>\n",
              "      <td>3</td>\n",
              "      <td>False.</td>\n",
              "    </tr>\n",
              "    <tr>\n",
              "      <th>3330</th>\n",
              "      <td>RI</td>\n",
              "      <td>28</td>\n",
              "      <td>510</td>\n",
              "      <td>328-8230</td>\n",
              "      <td>no</td>\n",
              "      <td>no</td>\n",
              "      <td>0</td>\n",
              "      <td>180.8</td>\n",
              "      <td>109</td>\n",
              "      <td>30.74</td>\n",
              "      <td>288.8</td>\n",
              "      <td>58</td>\n",
              "      <td>24.55</td>\n",
              "      <td>191.9</td>\n",
              "      <td>91</td>\n",
              "      <td>8.64</td>\n",
              "      <td>14.1</td>\n",
              "      <td>6</td>\n",
              "      <td>3.81</td>\n",
              "      <td>2</td>\n",
              "      <td>False.</td>\n",
              "    </tr>\n",
              "    <tr>\n",
              "      <th>3331</th>\n",
              "      <td>CT</td>\n",
              "      <td>184</td>\n",
              "      <td>510</td>\n",
              "      <td>364-6381</td>\n",
              "      <td>yes</td>\n",
              "      <td>no</td>\n",
              "      <td>0</td>\n",
              "      <td>213.8</td>\n",
              "      <td>105</td>\n",
              "      <td>36.35</td>\n",
              "      <td>159.6</td>\n",
              "      <td>84</td>\n",
              "      <td>13.57</td>\n",
              "      <td>139.2</td>\n",
              "      <td>137</td>\n",
              "      <td>6.26</td>\n",
              "      <td>5.0</td>\n",
              "      <td>10</td>\n",
              "      <td>1.35</td>\n",
              "      <td>2</td>\n",
              "      <td>False.</td>\n",
              "    </tr>\n",
              "    <tr>\n",
              "      <th>3332</th>\n",
              "      <td>TN</td>\n",
              "      <td>74</td>\n",
              "      <td>415</td>\n",
              "      <td>400-4344</td>\n",
              "      <td>no</td>\n",
              "      <td>yes</td>\n",
              "      <td>25</td>\n",
              "      <td>234.4</td>\n",
              "      <td>113</td>\n",
              "      <td>39.85</td>\n",
              "      <td>265.9</td>\n",
              "      <td>82</td>\n",
              "      <td>22.60</td>\n",
              "      <td>241.4</td>\n",
              "      <td>77</td>\n",
              "      <td>10.86</td>\n",
              "      <td>13.7</td>\n",
              "      <td>4</td>\n",
              "      <td>3.70</td>\n",
              "      <td>0</td>\n",
              "      <td>False.</td>\n",
              "    </tr>\n",
              "  </tbody>\n",
              "</table>\n",
              "</div>"
            ],
            "text/plain": [
              "     State  Account Length  Area Code     Phone Int'l Plan VMail Plan  \\\n",
              "3328    AZ             192        415  414-4276         no        yes   \n",
              "3329    WV              68        415  370-3271         no         no   \n",
              "3330    RI              28        510  328-8230         no         no   \n",
              "3331    CT             184        510  364-6381        yes         no   \n",
              "3332    TN              74        415  400-4344         no        yes   \n",
              "\n",
              "      VMail Message  Day Mins  Day Calls  Day Charge  Eve Mins  Eve Calls  \\\n",
              "3328             36     156.2         77       26.55     215.5        126   \n",
              "3329              0     231.1         57       39.29     153.4         55   \n",
              "3330              0     180.8        109       30.74     288.8         58   \n",
              "3331              0     213.8        105       36.35     159.6         84   \n",
              "3332             25     234.4        113       39.85     265.9         82   \n",
              "\n",
              "      Eve Charge  Night Mins  Night Calls  Night Charge  Intl Mins  \\\n",
              "3328       18.32       279.1           83         12.56        9.9   \n",
              "3329       13.04       191.3          123          8.61        9.6   \n",
              "3330       24.55       191.9           91          8.64       14.1   \n",
              "3331       13.57       139.2          137          6.26        5.0   \n",
              "3332       22.60       241.4           77         10.86       13.7   \n",
              "\n",
              "      Intl Calls  Intl Charge  CustServ Calls  Churn?  \n",
              "3328           6         2.67               2  False.  \n",
              "3329           4         2.59               3  False.  \n",
              "3330           6         3.81               2  False.  \n",
              "3331          10         1.35               2  False.  \n",
              "3332           4         3.70               0  False.  "
            ]
          },
          "metadata": {
            "tags": []
          },
          "execution_count": 55
        }
      ]
    },
    {
      "metadata": {
        "id": "toCz_iJqKSNG",
        "colab_type": "code",
        "colab": {
          "autoexec": {
            "startup": false,
            "wait_interval": 0
          }
        }
      },
      "cell_type": "code",
      "source": [
        "# display all columns\n",
        "pd.set_option('display.max_columns', 21)"
      ],
      "execution_count": 0,
      "outputs": []
    },
    {
      "metadata": {
        "id": "8xGDmMYsKa03",
        "colab_type": "code",
        "colab": {
          "autoexec": {
            "startup": false,
            "wait_interval": 0
          },
          "base_uri": "https://localhost:8080/",
          "height": 306
        },
        "outputId": "2b3d59d8-b28d-4490-c648-7117d356c2d5",
        "executionInfo": {
          "status": "ok",
          "timestamp": 1526389775770,
          "user_tz": -60,
          "elapsed": 501,
          "user": {
            "displayName": "Francisca Dias",
            "photoUrl": "//lh4.googleusercontent.com/-xgs_qST2Bio/AAAAAAAAAAI/AAAAAAAAAAc/1hYdCEXWVto/s50-c-k-no/photo.jpg",
            "userId": "107609291921208954029"
          }
        }
      },
      "cell_type": "code",
      "source": [
        "data.head()"
      ],
      "execution_count": 57,
      "outputs": [
        {
          "output_type": "execute_result",
          "data": {
            "text/html": [
              "<div>\n",
              "<style scoped>\n",
              "    .dataframe tbody tr th:only-of-type {\n",
              "        vertical-align: middle;\n",
              "    }\n",
              "\n",
              "    .dataframe tbody tr th {\n",
              "        vertical-align: top;\n",
              "    }\n",
              "\n",
              "    .dataframe thead th {\n",
              "        text-align: right;\n",
              "    }\n",
              "</style>\n",
              "<table border=\"1\" class=\"dataframe\">\n",
              "  <thead>\n",
              "    <tr style=\"text-align: right;\">\n",
              "      <th></th>\n",
              "      <th>State</th>\n",
              "      <th>Account Length</th>\n",
              "      <th>Area Code</th>\n",
              "      <th>Phone</th>\n",
              "      <th>Int'l Plan</th>\n",
              "      <th>VMail Plan</th>\n",
              "      <th>VMail Message</th>\n",
              "      <th>Day Mins</th>\n",
              "      <th>Day Calls</th>\n",
              "      <th>Day Charge</th>\n",
              "      <th>Eve Mins</th>\n",
              "      <th>Eve Calls</th>\n",
              "      <th>Eve Charge</th>\n",
              "      <th>Night Mins</th>\n",
              "      <th>Night Calls</th>\n",
              "      <th>Night Charge</th>\n",
              "      <th>Intl Mins</th>\n",
              "      <th>Intl Calls</th>\n",
              "      <th>Intl Charge</th>\n",
              "      <th>CustServ Calls</th>\n",
              "      <th>Churn?</th>\n",
              "    </tr>\n",
              "  </thead>\n",
              "  <tbody>\n",
              "    <tr>\n",
              "      <th>0</th>\n",
              "      <td>KS</td>\n",
              "      <td>128</td>\n",
              "      <td>415</td>\n",
              "      <td>382-4657</td>\n",
              "      <td>no</td>\n",
              "      <td>yes</td>\n",
              "      <td>25</td>\n",
              "      <td>265.1</td>\n",
              "      <td>110</td>\n",
              "      <td>45.07</td>\n",
              "      <td>197.4</td>\n",
              "      <td>99</td>\n",
              "      <td>16.78</td>\n",
              "      <td>244.7</td>\n",
              "      <td>91</td>\n",
              "      <td>11.01</td>\n",
              "      <td>10.0</td>\n",
              "      <td>3</td>\n",
              "      <td>2.70</td>\n",
              "      <td>1</td>\n",
              "      <td>False.</td>\n",
              "    </tr>\n",
              "    <tr>\n",
              "      <th>1</th>\n",
              "      <td>OH</td>\n",
              "      <td>107</td>\n",
              "      <td>415</td>\n",
              "      <td>371-7191</td>\n",
              "      <td>no</td>\n",
              "      <td>yes</td>\n",
              "      <td>26</td>\n",
              "      <td>161.6</td>\n",
              "      <td>123</td>\n",
              "      <td>27.47</td>\n",
              "      <td>195.5</td>\n",
              "      <td>103</td>\n",
              "      <td>16.62</td>\n",
              "      <td>254.4</td>\n",
              "      <td>103</td>\n",
              "      <td>11.45</td>\n",
              "      <td>13.7</td>\n",
              "      <td>3</td>\n",
              "      <td>3.70</td>\n",
              "      <td>1</td>\n",
              "      <td>False.</td>\n",
              "    </tr>\n",
              "    <tr>\n",
              "      <th>2</th>\n",
              "      <td>NJ</td>\n",
              "      <td>137</td>\n",
              "      <td>415</td>\n",
              "      <td>358-1921</td>\n",
              "      <td>no</td>\n",
              "      <td>no</td>\n",
              "      <td>0</td>\n",
              "      <td>243.4</td>\n",
              "      <td>114</td>\n",
              "      <td>41.38</td>\n",
              "      <td>121.2</td>\n",
              "      <td>110</td>\n",
              "      <td>10.30</td>\n",
              "      <td>162.6</td>\n",
              "      <td>104</td>\n",
              "      <td>7.32</td>\n",
              "      <td>12.2</td>\n",
              "      <td>5</td>\n",
              "      <td>3.29</td>\n",
              "      <td>0</td>\n",
              "      <td>False.</td>\n",
              "    </tr>\n",
              "    <tr>\n",
              "      <th>3</th>\n",
              "      <td>OH</td>\n",
              "      <td>84</td>\n",
              "      <td>408</td>\n",
              "      <td>375-9999</td>\n",
              "      <td>yes</td>\n",
              "      <td>no</td>\n",
              "      <td>0</td>\n",
              "      <td>299.4</td>\n",
              "      <td>71</td>\n",
              "      <td>50.90</td>\n",
              "      <td>61.9</td>\n",
              "      <td>88</td>\n",
              "      <td>5.26</td>\n",
              "      <td>196.9</td>\n",
              "      <td>89</td>\n",
              "      <td>8.86</td>\n",
              "      <td>6.6</td>\n",
              "      <td>7</td>\n",
              "      <td>1.78</td>\n",
              "      <td>2</td>\n",
              "      <td>False.</td>\n",
              "    </tr>\n",
              "    <tr>\n",
              "      <th>4</th>\n",
              "      <td>OK</td>\n",
              "      <td>75</td>\n",
              "      <td>415</td>\n",
              "      <td>330-6626</td>\n",
              "      <td>yes</td>\n",
              "      <td>no</td>\n",
              "      <td>0</td>\n",
              "      <td>166.7</td>\n",
              "      <td>113</td>\n",
              "      <td>28.34</td>\n",
              "      <td>148.3</td>\n",
              "      <td>122</td>\n",
              "      <td>12.61</td>\n",
              "      <td>186.9</td>\n",
              "      <td>121</td>\n",
              "      <td>8.41</td>\n",
              "      <td>10.1</td>\n",
              "      <td>3</td>\n",
              "      <td>2.73</td>\n",
              "      <td>3</td>\n",
              "      <td>False.</td>\n",
              "    </tr>\n",
              "  </tbody>\n",
              "</table>\n",
              "</div>"
            ],
            "text/plain": [
              "  State  Account Length  Area Code     Phone Int'l Plan VMail Plan  \\\n",
              "0    KS             128        415  382-4657         no        yes   \n",
              "1    OH             107        415  371-7191         no        yes   \n",
              "2    NJ             137        415  358-1921         no         no   \n",
              "3    OH              84        408  375-9999        yes         no   \n",
              "4    OK              75        415  330-6626        yes         no   \n",
              "\n",
              "   VMail Message  Day Mins  Day Calls  Day Charge  Eve Mins  Eve Calls  \\\n",
              "0             25     265.1        110       45.07     197.4         99   \n",
              "1             26     161.6        123       27.47     195.5        103   \n",
              "2              0     243.4        114       41.38     121.2        110   \n",
              "3              0     299.4         71       50.90      61.9         88   \n",
              "4              0     166.7        113       28.34     148.3        122   \n",
              "\n",
              "   Eve Charge  Night Mins  Night Calls  Night Charge  Intl Mins  Intl Calls  \\\n",
              "0       16.78       244.7           91         11.01       10.0           3   \n",
              "1       16.62       254.4          103         11.45       13.7           3   \n",
              "2       10.30       162.6          104          7.32       12.2           5   \n",
              "3        5.26       196.9           89          8.86        6.6           7   \n",
              "4       12.61       186.9          121          8.41       10.1           3   \n",
              "\n",
              "   Intl Charge  CustServ Calls  Churn?  \n",
              "0         2.70               1  False.  \n",
              "1         3.70               1  False.  \n",
              "2         3.29               0  False.  \n",
              "3         1.78               2  False.  \n",
              "4         2.73               3  False.  "
            ]
          },
          "metadata": {
            "tags": []
          },
          "execution_count": 57
        }
      ]
    },
    {
      "metadata": {
        "id": "cnamDBOdKjhf",
        "colab_type": "text"
      },
      "cell_type": "markdown",
      "source": [
        "Column Description:\n",
        "\n",
        "\n",
        "* state in the US\n",
        "* account length\n",
        "* Area Code\n",
        "* Phone Number\n",
        "* International Plan (yes/no)\n",
        "* Voice mail plan (yes/no)\n",
        "* number vmail messages\n",
        "* total day minutes\n",
        "* total day calls\n",
        "* total day charge\n",
        "* total eve minutes\n",
        "* total eve calls\n",
        "* total eve charge\n",
        "* total night minutes\n",
        "* total night calls\n",
        "* total night charge\n",
        "* total intl minutes\n",
        "* total intl calls\n",
        "* total intl charge\n",
        "* customer service calls\n",
        "* churn\n",
        "\n",
        "\n",
        "\n"
      ]
    },
    {
      "metadata": {
        "id": "bsIJMUEhKtEE",
        "colab_type": "code",
        "colab": {
          "autoexec": {
            "startup": false,
            "wait_interval": 0
          },
          "base_uri": "https://localhost:8080/",
          "height": 34
        },
        "outputId": "1145787f-c41d-497d-a5ce-415741f94df6",
        "executionInfo": {
          "status": "ok",
          "timestamp": 1526389776321,
          "user_tz": -60,
          "elapsed": 469,
          "user": {
            "displayName": "Francisca Dias",
            "photoUrl": "//lh4.googleusercontent.com/-xgs_qST2Bio/AAAAAAAAAAI/AAAAAAAAAAc/1hYdCEXWVto/s50-c-k-no/photo.jpg",
            "userId": "107609291921208954029"
          }
        }
      },
      "cell_type": "code",
      "source": [
        "# dimensionality: how many costumers we have and how many features\n",
        "data.shape"
      ],
      "execution_count": 58,
      "outputs": [
        {
          "output_type": "execute_result",
          "data": {
            "text/plain": [
              "(3333, 21)"
            ]
          },
          "metadata": {
            "tags": []
          },
          "execution_count": 58
        }
      ]
    },
    {
      "metadata": {
        "id": "LYyXl13XKy4E",
        "colab_type": "code",
        "colab": {
          "autoexec": {
            "startup": false,
            "wait_interval": 0
          },
          "base_uri": "https://localhost:8080/",
          "height": 119
        },
        "outputId": "58d668c1-fec7-4400-c13c-5f66999aae20",
        "executionInfo": {
          "status": "ok",
          "timestamp": 1526389776877,
          "user_tz": -60,
          "elapsed": 450,
          "user": {
            "displayName": "Francisca Dias",
            "photoUrl": "//lh4.googleusercontent.com/-xgs_qST2Bio/AAAAAAAAAAI/AAAAAAAAAAc/1hYdCEXWVto/s50-c-k-no/photo.jpg",
            "userId": "107609291921208954029"
          }
        }
      },
      "cell_type": "code",
      "source": [
        "# feature names\n",
        "data.columns"
      ],
      "execution_count": 59,
      "outputs": [
        {
          "output_type": "execute_result",
          "data": {
            "text/plain": [
              "Index([u'State', u'Account Length', u'Area Code', u'Phone', u'Int'l Plan',\n",
              "       u'VMail Plan', u'VMail Message', u'Day Mins', u'Day Calls',\n",
              "       u'Day Charge', u'Eve Mins', u'Eve Calls', u'Eve Charge', u'Night Mins',\n",
              "       u'Night Calls', u'Night Charge', u'Intl Mins', u'Intl Calls',\n",
              "       u'Intl Charge', u'CustServ Calls', u'Churn?'],\n",
              "      dtype='object')"
            ]
          },
          "metadata": {
            "tags": []
          },
          "execution_count": 59
        }
      ]
    },
    {
      "metadata": {
        "id": "PXWmL0hGK25S",
        "colab_type": "code",
        "colab": {
          "autoexec": {
            "startup": false,
            "wait_interval": 0
          }
        }
      },
      "cell_type": "code",
      "source": [
        "# Manipulating column names: convert spaces and special characters into condensed names\n",
        "data.columns = data.columns.str.replace(' ', '_')"
      ],
      "execution_count": 0,
      "outputs": []
    },
    {
      "metadata": {
        "id": "efnHX3nLK9tD",
        "colab_type": "code",
        "colab": {
          "autoexec": {
            "startup": false,
            "wait_interval": 0
          }
        }
      },
      "cell_type": "code",
      "source": [
        "data.columns = data.columns.str.replace('?', '')"
      ],
      "execution_count": 0,
      "outputs": []
    },
    {
      "metadata": {
        "id": "s7-nk4rgK_Gj",
        "colab_type": "code",
        "colab": {
          "autoexec": {
            "startup": false,
            "wait_interval": 0
          }
        }
      },
      "cell_type": "code",
      "source": [
        "data.columns = data.columns.str.replace(\"'\", '_')"
      ],
      "execution_count": 0,
      "outputs": []
    },
    {
      "metadata": {
        "id": "pxSHO2yoLAtD",
        "colab_type": "code",
        "colab": {
          "autoexec": {
            "startup": false,
            "wait_interval": 0
          },
          "base_uri": "https://localhost:8080/",
          "height": 119
        },
        "outputId": "20fa0b97-c958-477a-84a7-fbc9f3188f55",
        "executionInfo": {
          "status": "ok",
          "timestamp": 1526389779270,
          "user_tz": -60,
          "elapsed": 499,
          "user": {
            "displayName": "Francisca Dias",
            "photoUrl": "//lh4.googleusercontent.com/-xgs_qST2Bio/AAAAAAAAAAI/AAAAAAAAAAc/1hYdCEXWVto/s50-c-k-no/photo.jpg",
            "userId": "107609291921208954029"
          }
        }
      },
      "cell_type": "code",
      "source": [
        "data.columns "
      ],
      "execution_count": 63,
      "outputs": [
        {
          "output_type": "execute_result",
          "data": {
            "text/plain": [
              "Index([u'State', u'Account_Length', u'Area_Code', u'Phone', u'Int_l_Plan',\n",
              "       u'VMail_Plan', u'VMail_Message', u'Day_Mins', u'Day_Calls',\n",
              "       u'Day_Charge', u'Eve_Mins', u'Eve_Calls', u'Eve_Charge', u'Night_Mins',\n",
              "       u'Night_Calls', u'Night_Charge', u'Intl_Mins', u'Intl_Calls',\n",
              "       u'Intl_Charge', u'CustServ_Calls', u'Churn'],\n",
              "      dtype='object')"
            ]
          },
          "metadata": {
            "tags": []
          },
          "execution_count": 63
        }
      ]
    },
    {
      "metadata": {
        "id": "vQrqYf9iLCZi",
        "colab_type": "code",
        "colab": {
          "autoexec": {
            "startup": false,
            "wait_interval": 0
          },
          "base_uri": "https://localhost:8080/",
          "height": 459
        },
        "outputId": "b3428ffc-53ef-488f-d556-915220350100",
        "executionInfo": {
          "status": "ok",
          "timestamp": 1526389779853,
          "user_tz": -60,
          "elapsed": 476,
          "user": {
            "displayName": "Francisca Dias",
            "photoUrl": "//lh4.googleusercontent.com/-xgs_qST2Bio/AAAAAAAAAAI/AAAAAAAAAAc/1hYdCEXWVto/s50-c-k-no/photo.jpg",
            "userId": "107609291921208954029"
          }
        }
      },
      "cell_type": "code",
      "source": [
        "# pandas method to read data info\n",
        "data.info()"
      ],
      "execution_count": 64,
      "outputs": [
        {
          "output_type": "stream",
          "text": [
            "<class 'pandas.core.frame.DataFrame'>\n",
            "RangeIndex: 3333 entries, 0 to 3332\n",
            "Data columns (total 21 columns):\n",
            "State             3333 non-null object\n",
            "Account_Length    3333 non-null int64\n",
            "Area_Code         3333 non-null int64\n",
            "Phone             3333 non-null object\n",
            "Int_l_Plan        3333 non-null object\n",
            "VMail_Plan        3333 non-null object\n",
            "VMail_Message     3333 non-null int64\n",
            "Day_Mins          3333 non-null float64\n",
            "Day_Calls         3333 non-null int64\n",
            "Day_Charge        3333 non-null float64\n",
            "Eve_Mins          3333 non-null float64\n",
            "Eve_Calls         3333 non-null int64\n",
            "Eve_Charge        3333 non-null float64\n",
            "Night_Mins        3333 non-null float64\n",
            "Night_Calls       3333 non-null int64\n",
            "Night_Charge      3333 non-null float64\n",
            "Intl_Mins         3333 non-null float64\n",
            "Intl_Calls        3333 non-null int64\n",
            "Intl_Charge       3333 non-null float64\n",
            "CustServ_Calls    3333 non-null int64\n",
            "Churn             3333 non-null object\n",
            "dtypes: float64(8), int64(8), object(5)\n",
            "memory usage: 546.9+ KB\n"
          ],
          "name": "stdout"
        }
      ]
    },
    {
      "metadata": {
        "id": "3hDFd9_gLJSO",
        "colab_type": "text"
      },
      "cell_type": "markdown",
      "source": [
        "**Graphs / Visualization**"
      ]
    },
    {
      "metadata": {
        "id": "1cc2u2puLN-Q",
        "colab_type": "code",
        "colab": {
          "autoexec": {
            "startup": false,
            "wait_interval": 0
          }
        }
      },
      "cell_type": "code",
      "source": [
        "%matplotlib inline\n",
        "import seaborn as sns\n",
        "import matplotlib.pyplot as plt\n",
        "plt.style.use('fivethirtyeight')"
      ],
      "execution_count": 0,
      "outputs": []
    },
    {
      "metadata": {
        "id": "M9dWEDhCLUaB",
        "colab_type": "text"
      },
      "cell_type": "markdown",
      "source": [
        "**Costumers who did and didnt churn**"
      ]
    },
    {
      "metadata": {
        "id": "vf72IHkkLWdf",
        "colab_type": "code",
        "colab": {
          "autoexec": {
            "startup": false,
            "wait_interval": 0
          },
          "base_uri": "https://localhost:8080/",
          "height": 497
        },
        "outputId": "fc029aef-d1d6-4662-a556-99193200b418",
        "executionInfo": {
          "status": "ok",
          "timestamp": 1526389782250,
          "user_tz": -60,
          "elapsed": 1441,
          "user": {
            "displayName": "Francisca Dias",
            "photoUrl": "//lh4.googleusercontent.com/-xgs_qST2Bio/AAAAAAAAAAI/AAAAAAAAAAc/1hYdCEXWVto/s50-c-k-no/photo.jpg",
            "userId": "107609291921208954029"
          }
        }
      },
      "cell_type": "code",
      "source": [
        "a = data[\"Churn\"].value_counts()\n",
        "ax = a.plot.pie(y=\"Churn\", figsize=(8, 8), autopct='%1.0f%%',pctdistance=0.5, labeldistance=1.2)\n",
        "plt.show()"
      ],
      "execution_count": 66,
      "outputs": [
        {
          "output_type": "display_data",
          "data": {
            "image/png": "[encoded data removed]",
            "text/plain": [
              "<matplotlib.figure.Figure at 0x7ff756bc0a10>"
            ]
          },
          "metadata": {
            "tags": []
          }
        }
      ]
    },
    {
      "metadata": {
        "id": "rdSr_XyjL2uO",
        "colab_type": "text"
      },
      "cell_type": "markdown",
      "source": [
        "**Churn By State**"
      ]
    },
    {
      "metadata": {
        "id": "V8NTUJk_L5Qg",
        "colab_type": "code",
        "colab": {
          "autoexec": {
            "startup": false,
            "wait_interval": 0
          },
          "base_uri": "https://localhost:8080/",
          "height": 676
        },
        "outputId": "ffe285a8-5ce0-4024-863a-6bbdaf8e768a",
        "executionInfo": {
          "status": "ok",
          "timestamp": 1526389784241,
          "user_tz": -60,
          "elapsed": 1594,
          "user": {
            "displayName": "Francisca Dias",
            "photoUrl": "//lh4.googleusercontent.com/-xgs_qST2Bio/AAAAAAAAAAI/AAAAAAAAAAc/1hYdCEXWVto/s50-c-k-no/photo.jpg",
            "userId": "107609291921208954029"
          }
        }
      },
      "cell_type": "code",
      "source": [
        "# groupby: groups series of values\n",
        "# unstack: returns a pivot that is a dataframe\n",
        "\n",
        "data.groupby([\"State\", \"Churn\"]).size().unstack().plot(kind='bar', stacked=True, figsize=(30,10)) \n",
        "plt.show()"
      ],
      "execution_count": 67,
      "outputs": [
        {
          "output_type": "display_data",
          "data": {
            "image/png": "[encoded data removed]",
            "text/plain": [
              "<matplotlib.figure.Figure at 0x7ff756b89fd0>"
            ]
          },
          "metadata": {
            "tags": []
          }
        }
      ]
    },
    {
      "metadata": {
        "id": "2FVnrP6rMEee",
        "colab_type": "text"
      },
      "cell_type": "markdown",
      "source": [
        "**Churn By Area Code**"
      ]
    },
    {
      "metadata": {
        "id": "z_w8OAwTMHIO",
        "colab_type": "code",
        "colab": {
          "autoexec": {
            "startup": false,
            "wait_interval": 0
          },
          "base_uri": "https://localhost:8080/",
          "height": 366
        },
        "outputId": "7f04ac3b-25c5-4d4f-d8e5-68cf53f1d771",
        "executionInfo": {
          "status": "ok",
          "timestamp": 1526389785784,
          "user_tz": -60,
          "elapsed": 786,
          "user": {
            "displayName": "Francisca Dias",
            "photoUrl": "//lh4.googleusercontent.com/-xgs_qST2Bio/AAAAAAAAAAI/AAAAAAAAAAc/1hYdCEXWVto/s50-c-k-no/photo.jpg",
            "userId": "107609291921208954029"
          }
        }
      },
      "cell_type": "code",
      "source": [
        "data.groupby([\"Area_Code\", \"Churn\"]).size().unstack().plot(kind='bar', stacked=True, figsize=(10,5)) \n",
        "plt.show()"
      ],
      "execution_count": 68,
      "outputs": [
        {
          "output_type": "display_data",
          "data": {
            "image/png": "[encoded data removed]",
            "text/plain": [
              "<matplotlib.figure.Figure at 0x7ff75cc125d0>"
            ]
          },
          "metadata": {
            "tags": []
          }
        }
      ]
    },
    {
      "metadata": {
        "id": "-wQtpUm6NqiI",
        "colab_type": "text"
      },
      "cell_type": "markdown",
      "source": [
        "**Churn By Customers with International plan**"
      ]
    },
    {
      "metadata": {
        "id": "Due9h18NNrzG",
        "colab_type": "code",
        "colab": {
          "autoexec": {
            "startup": false,
            "wait_interval": 0
          },
          "base_uri": "https://localhost:8080/",
          "height": 364
        },
        "outputId": "451697aa-e20c-4026-a1b4-d695ce236150",
        "executionInfo": {
          "status": "ok",
          "timestamp": 1526389786566,
          "user_tz": -60,
          "elapsed": 539,
          "user": {
            "displayName": "Francisca Dias",
            "photoUrl": "//lh4.googleusercontent.com/-xgs_qST2Bio/AAAAAAAAAAI/AAAAAAAAAAc/1hYdCEXWVto/s50-c-k-no/photo.jpg",
            "userId": "107609291921208954029"
          }
        }
      },
      "cell_type": "code",
      "source": [
        "data.groupby([\"Int_l_Plan\", \"Churn\"]).size().unstack().plot(kind='bar', stacked=True, figsize=(5,5)) \n",
        "plt.show()"
      ],
      "execution_count": 69,
      "outputs": [
        {
          "output_type": "display_data",
          "data": {
            "image/png": "[encoded data removed]",
            "text/plain": [
              "<matplotlib.figure.Figure at 0x7ff75cc35310>"
            ]
          },
          "metadata": {
            "tags": []
          }
        }
      ]
    },
    {
      "metadata": {
        "id": "-1nddwE9PaXx",
        "colab_type": "text"
      },
      "cell_type": "markdown",
      "source": [
        "**Churn By Customers with Voice mail plan**"
      ]
    },
    {
      "metadata": {
        "id": "Xfy8104PPb3N",
        "colab_type": "code",
        "colab": {
          "autoexec": {
            "startup": false,
            "wait_interval": 0
          },
          "base_uri": "https://localhost:8080/",
          "height": 365
        },
        "outputId": "295667d4-f8d2-4ef4-c07e-9fd72b11a039",
        "executionInfo": {
          "status": "ok",
          "timestamp": 1526389787439,
          "user_tz": -60,
          "elapsed": 495,
          "user": {
            "displayName": "Francisca Dias",
            "photoUrl": "//lh4.googleusercontent.com/-xgs_qST2Bio/AAAAAAAAAAI/AAAAAAAAAAc/1hYdCEXWVto/s50-c-k-no/photo.jpg",
            "userId": "107609291921208954029"
          }
        }
      },
      "cell_type": "code",
      "source": [
        "data.groupby([\"VMail_Plan\", \"Churn\"]).size().unstack().plot(kind='bar', stacked=True, figsize=(5,5)) \n",
        "plt.show()"
      ],
      "execution_count": 70,
      "outputs": [
        {
          "output_type": "display_data",
          "data": {
            "image/png": "[encoded data removed]",
            "text/plain": [
              "<matplotlib.figure.Figure at 0x7ff756bcf910>"
            ]
          },
          "metadata": {
            "tags": []
          }
        }
      ]
    },
    {
      "metadata": {
        "id": "J__0OP0NPhhP",
        "colab_type": "text"
      },
      "cell_type": "markdown",
      "source": [
        "## 3. Prepare data"
      ]
    },
    {
      "metadata": {
        "id": "qXqCIcl6Pkjq",
        "colab_type": "text"
      },
      "cell_type": "markdown",
      "source": [
        "**Data Pre-processing or variable selection**"
      ]
    },
    {
      "metadata": {
        "id": "Q_Rw-Nc0PsVQ",
        "colab_type": "text"
      },
      "cell_type": "markdown",
      "source": [
        "Not all variables are useful in predicting if a customer will churn. \n",
        "\n",
        "For example, the customers phone number is completely useless in predicting because it is unique to each customer."
      ]
    },
    {
      "metadata": {
        "id": "qbfCnxHFPtLb",
        "colab_type": "code",
        "colab": {
          "autoexec": {
            "startup": false,
            "wait_interval": 0
          }
        }
      },
      "cell_type": "code",
      "source": [
        "# Drop the columns that we have decided won't be used in prediction: 2 categorical, 1 numeric\n",
        "# axis=1 denotes that we are referring to a column, not a row\n",
        "data = data.drop([\"Phone\", \"Area_Code\", \"State\"], axis=1)"
      ],
      "execution_count": 0,
      "outputs": []
    },
    {
      "metadata": {
        "id": "apGZyhz5PwBr",
        "colab_type": "code",
        "colab": {
          "autoexec": {
            "startup": false,
            "wait_interval": 0
          }
        }
      },
      "cell_type": "code",
      "source": [
        "import numpy as np\n",
        "#numpy is a library that allow us to work with data in arrays\n",
        "# we need to convert the objects to numeric\n",
        "data[\"Churn\"] = np.where(data[\"Churn\"] == 'True.',1,0)"
      ],
      "execution_count": 0,
      "outputs": []
    },
    {
      "metadata": {
        "id": "iIiCRO58V45c",
        "colab_type": "code",
        "colab": {
          "autoexec": {
            "startup": false,
            "wait_interval": 0
          },
          "base_uri": "https://localhost:8080/",
          "height": 68
        },
        "outputId": "4d53a895-cc85-4cfe-b1d9-ea0b1c23586b",
        "executionInfo": {
          "status": "ok",
          "timestamp": 1526389790429,
          "user_tz": -60,
          "elapsed": 499,
          "user": {
            "displayName": "Francisca Dias",
            "photoUrl": "//lh4.googleusercontent.com/-xgs_qST2Bio/AAAAAAAAAAI/AAAAAAAAAAc/1hYdCEXWVto/s50-c-k-no/photo.jpg",
            "userId": "107609291921208954029"
          }
        }
      },
      "cell_type": "code",
      "source": [
        "data.Churn.value_counts()"
      ],
      "execution_count": 73,
      "outputs": [
        {
          "output_type": "execute_result",
          "data": {
            "text/plain": [
              "0    2850\n",
              "1     483\n",
              "Name: Churn, dtype: int64"
            ]
          },
          "metadata": {
            "tags": []
          },
          "execution_count": 73
        }
      ]
    },
    {
      "metadata": {
        "id": "7rtR4i56V7YM",
        "colab_type": "code",
        "colab": {
          "autoexec": {
            "startup": false,
            "wait_interval": 0
          }
        }
      },
      "cell_type": "code",
      "source": [
        "# we also need to convert the remaining object columns to numeric \n",
        "data[\"Int_l_Plan\"] = np.where(data[\"Int_l_Plan\"] == 'yes',1,0)\n",
        "data[\"VMail_Plan\"] = np.where(data[\"VMail_Plan\"] == 'yes',1,0)"
      ],
      "execution_count": 0,
      "outputs": []
    },
    {
      "metadata": {
        "id": "G7RTdxBYV-xL",
        "colab_type": "code",
        "colab": {
          "autoexec": {
            "startup": false,
            "wait_interval": 0
          },
          "base_uri": "https://localhost:8080/",
          "height": 204
        },
        "outputId": "b4fc6bc5-3104-434d-9f56-90223b2e3905",
        "executionInfo": {
          "status": "ok",
          "timestamp": 1526389791560,
          "user_tz": -60,
          "elapsed": 524,
          "user": {
            "displayName": "Francisca Dias",
            "photoUrl": "//lh4.googleusercontent.com/-xgs_qST2Bio/AAAAAAAAAAI/AAAAAAAAAAc/1hYdCEXWVto/s50-c-k-no/photo.jpg",
            "userId": "107609291921208954029"
          }
        }
      },
      "cell_type": "code",
      "source": [
        "data.head()"
      ],
      "execution_count": 75,
      "outputs": [
        {
          "output_type": "execute_result",
          "data": {
            "text/html": [
              "<div>\n",
              "<style scoped>\n",
              "    .dataframe tbody tr th:only-of-type {\n",
              "        vertical-align: middle;\n",
              "    }\n",
              "\n",
              "    .dataframe tbody tr th {\n",
              "        vertical-align: top;\n",
              "    }\n",
              "\n",
              "    .dataframe thead th {\n",
              "        text-align: right;\n",
              "    }\n",
              "</style>\n",
              "<table border=\"1\" class=\"dataframe\">\n",
              "  <thead>\n",
              "    <tr style=\"text-align: right;\">\n",
              "      <th></th>\n",
              "      <th>Account_Length</th>\n",
              "      <th>Int_l_Plan</th>\n",
              "      <th>VMail_Plan</th>\n",
              "      <th>VMail_Message</th>\n",
              "      <th>Day_Mins</th>\n",
              "      <th>Day_Calls</th>\n",
              "      <th>Day_Charge</th>\n",
              "      <th>Eve_Mins</th>\n",
              "      <th>Eve_Calls</th>\n",
              "      <th>Eve_Charge</th>\n",
              "      <th>Night_Mins</th>\n",
              "      <th>Night_Calls</th>\n",
              "      <th>Night_Charge</th>\n",
              "      <th>Intl_Mins</th>\n",
              "      <th>Intl_Calls</th>\n",
              "      <th>Intl_Charge</th>\n",
              "      <th>CustServ_Calls</th>\n",
              "      <th>Churn</th>\n",
              "    </tr>\n",
              "  </thead>\n",
              "  <tbody>\n",
              "    <tr>\n",
              "      <th>0</th>\n",
              "      <td>128</td>\n",
              "      <td>0</td>\n",
              "      <td>1</td>\n",
              "      <td>25</td>\n",
              "      <td>265.1</td>\n",
              "      <td>110</td>\n",
              "      <td>45.07</td>\n",
              "      <td>197.4</td>\n",
              "      <td>99</td>\n",
              "      <td>16.78</td>\n",
              "      <td>244.7</td>\n",
              "      <td>91</td>\n",
              "      <td>11.01</td>\n",
              "      <td>10.0</td>\n",
              "      <td>3</td>\n",
              "      <td>2.70</td>\n",
              "      <td>1</td>\n",
              "      <td>0</td>\n",
              "    </tr>\n",
              "    <tr>\n",
              "      <th>1</th>\n",
              "      <td>107</td>\n",
              "      <td>0</td>\n",
              "      <td>1</td>\n",
              "      <td>26</td>\n",
              "      <td>161.6</td>\n",
              "      <td>123</td>\n",
              "      <td>27.47</td>\n",
              "      <td>195.5</td>\n",
              "      <td>103</td>\n",
              "      <td>16.62</td>\n",
              "      <td>254.4</td>\n",
              "      <td>103</td>\n",
              "      <td>11.45</td>\n",
              "      <td>13.7</td>\n",
              "      <td>3</td>\n",
              "      <td>3.70</td>\n",
              "      <td>1</td>\n",
              "      <td>0</td>\n",
              "    </tr>\n",
              "    <tr>\n",
              "      <th>2</th>\n",
              "      <td>137</td>\n",
              "      <td>0</td>\n",
              "      <td>0</td>\n",
              "      <td>0</td>\n",
              "      <td>243.4</td>\n",
              "      <td>114</td>\n",
              "      <td>41.38</td>\n",
              "      <td>121.2</td>\n",
              "      <td>110</td>\n",
              "      <td>10.30</td>\n",
              "      <td>162.6</td>\n",
              "      <td>104</td>\n",
              "      <td>7.32</td>\n",
              "      <td>12.2</td>\n",
              "      <td>5</td>\n",
              "      <td>3.29</td>\n",
              "      <td>0</td>\n",
              "      <td>0</td>\n",
              "    </tr>\n",
              "    <tr>\n",
              "      <th>3</th>\n",
              "      <td>84</td>\n",
              "      <td>1</td>\n",
              "      <td>0</td>\n",
              "      <td>0</td>\n",
              "      <td>299.4</td>\n",
              "      <td>71</td>\n",
              "      <td>50.90</td>\n",
              "      <td>61.9</td>\n",
              "      <td>88</td>\n",
              "      <td>5.26</td>\n",
              "      <td>196.9</td>\n",
              "      <td>89</td>\n",
              "      <td>8.86</td>\n",
              "      <td>6.6</td>\n",
              "      <td>7</td>\n",
              "      <td>1.78</td>\n",
              "      <td>2</td>\n",
              "      <td>0</td>\n",
              "    </tr>\n",
              "    <tr>\n",
              "      <th>4</th>\n",
              "      <td>75</td>\n",
              "      <td>1</td>\n",
              "      <td>0</td>\n",
              "      <td>0</td>\n",
              "      <td>166.7</td>\n",
              "      <td>113</td>\n",
              "      <td>28.34</td>\n",
              "      <td>148.3</td>\n",
              "      <td>122</td>\n",
              "      <td>12.61</td>\n",
              "      <td>186.9</td>\n",
              "      <td>121</td>\n",
              "      <td>8.41</td>\n",
              "      <td>10.1</td>\n",
              "      <td>3</td>\n",
              "      <td>2.73</td>\n",
              "      <td>3</td>\n",
              "      <td>0</td>\n",
              "    </tr>\n",
              "  </tbody>\n",
              "</table>\n",
              "</div>"
            ],
            "text/plain": [
              "   Account_Length  Int_l_Plan  VMail_Plan  VMail_Message  Day_Mins  Day_Calls  \\\n",
              "0             128           0           1             25     265.1        110   \n",
              "1             107           0           1             26     161.6        123   \n",
              "2             137           0           0              0     243.4        114   \n",
              "3              84           1           0              0     299.4         71   \n",
              "4              75           1           0              0     166.7        113   \n",
              "\n",
              "   Day_Charge  Eve_Mins  Eve_Calls  Eve_Charge  Night_Mins  Night_Calls  \\\n",
              "0       45.07     197.4         99       16.78       244.7           91   \n",
              "1       27.47     195.5        103       16.62       254.4          103   \n",
              "2       41.38     121.2        110       10.30       162.6          104   \n",
              "3       50.90      61.9         88        5.26       196.9           89   \n",
              "4       28.34     148.3        122       12.61       186.9          121   \n",
              "\n",
              "   Night_Charge  Intl_Mins  Intl_Calls  Intl_Charge  CustServ_Calls  Churn  \n",
              "0         11.01       10.0           3         2.70               1      0  \n",
              "1         11.45       13.7           3         3.70               1      0  \n",
              "2          7.32       12.2           5         3.29               0      0  \n",
              "3          8.86        6.6           7         1.78               2      0  \n",
              "4          8.41       10.1           3         2.73               3      0  "
            ]
          },
          "metadata": {
            "tags": []
          },
          "execution_count": 75
        }
      ]
    },
    {
      "metadata": {
        "id": "8qTQxVKFWAj7",
        "colab_type": "code",
        "colab": {
          "autoexec": {
            "startup": false,
            "wait_interval": 0
          },
          "base_uri": "https://localhost:8080/",
          "height": 34
        },
        "outputId": "47a4377e-5589-4aef-88ec-e8d9af079a62",
        "executionInfo": {
          "status": "ok",
          "timestamp": 1526389792118,
          "user_tz": -60,
          "elapsed": 494,
          "user": {
            "displayName": "Francisca Dias",
            "photoUrl": "//lh4.googleusercontent.com/-xgs_qST2Bio/AAAAAAAAAAI/AAAAAAAAAAc/1hYdCEXWVto/s50-c-k-no/photo.jpg",
            "userId": "107609291921208954029"
          }
        }
      },
      "cell_type": "code",
      "source": [
        "type(data)"
      ],
      "execution_count": 76,
      "outputs": [
        {
          "output_type": "execute_result",
          "data": {
            "text/plain": [
              "pandas.core.frame.DataFrame"
            ]
          },
          "metadata": {
            "tags": []
          },
          "execution_count": 76
        }
      ]
    },
    {
      "metadata": {
        "id": "dcGDJinMWHbb",
        "colab_type": "code",
        "colab": {
          "autoexec": {
            "startup": false,
            "wait_interval": 0
          },
          "base_uri": "https://localhost:8080/",
          "height": 34
        },
        "outputId": "bb5769be-1dfb-46a5-c8c7-95d90613ce21",
        "executionInfo": {
          "status": "ok",
          "timestamp": 1526389792657,
          "user_tz": -60,
          "elapsed": 487,
          "user": {
            "displayName": "Francisca Dias",
            "photoUrl": "//lh4.googleusercontent.com/-xgs_qST2Bio/AAAAAAAAAAI/AAAAAAAAAAc/1hYdCEXWVto/s50-c-k-no/photo.jpg",
            "userId": "107609291921208954029"
          }
        }
      },
      "cell_type": "code",
      "source": [
        "len(data.columns)"
      ],
      "execution_count": 77,
      "outputs": [
        {
          "output_type": "execute_result",
          "data": {
            "text/plain": [
              "18"
            ]
          },
          "metadata": {
            "tags": []
          },
          "execution_count": 77
        }
      ]
    },
    {
      "metadata": {
        "id": "aXGETID4WIrb",
        "colab_type": "code",
        "colab": {
          "autoexec": {
            "startup": false,
            "wait_interval": 0
          }
        }
      },
      "cell_type": "code",
      "source": [
        "# We have 18 columns. Our last column in our predict target: does costumer churn or not.\n",
        "# therefore we will call X our features and y our target\n",
        "# convert for dataframe to numpy ndarray.\n",
        "# why do I have to use an np array instead of a regular array?\n",
        "# np arrays are multidimensional arrays\n",
        "# better in terms of faster computation and ease of manipulation.\n",
        "array = data.values"
      ],
      "execution_count": 0,
      "outputs": []
    },
    {
      "metadata": {
        "id": "YP3aL6fkW8AM",
        "colab_type": "code",
        "colab": {
          "autoexec": {
            "startup": false,
            "wait_interval": 0
          },
          "base_uri": "https://localhost:8080/",
          "height": 34
        },
        "outputId": "b3a0e51d-9d05-454d-884b-870a7dda7184",
        "executionInfo": {
          "status": "ok",
          "timestamp": 1526389793777,
          "user_tz": -60,
          "elapsed": 516,
          "user": {
            "displayName": "Francisca Dias",
            "photoUrl": "//lh4.googleusercontent.com/-xgs_qST2Bio/AAAAAAAAAAI/AAAAAAAAAAc/1hYdCEXWVto/s50-c-k-no/photo.jpg",
            "userId": "107609291921208954029"
          }
        }
      },
      "cell_type": "code",
      "source": [
        "type(array)"
      ],
      "execution_count": 79,
      "outputs": [
        {
          "output_type": "execute_result",
          "data": {
            "text/plain": [
              "numpy.ndarray"
            ]
          },
          "metadata": {
            "tags": []
          },
          "execution_count": 79
        }
      ]
    },
    {
      "metadata": {
        "id": "cTVu7WXwXc4J",
        "colab_type": "code",
        "colab": {
          "autoexec": {
            "startup": false,
            "wait_interval": 0
          }
        }
      },
      "cell_type": "code",
      "source": [
        "# X is capitalized because it represents a matrix and y is lowercase because it is a vector\n",
        "X = array[:,0:17]\n",
        "y = array[:,17:]"
      ],
      "execution_count": 0,
      "outputs": []
    },
    {
      "metadata": {
        "id": "7IZITjwBXhYb",
        "colab_type": "text"
      },
      "cell_type": "markdown",
      "source": [
        "## 4. Evaluate Algorithms"
      ]
    },
    {
      "metadata": {
        "id": "j39di3ZHXlPh",
        "colab_type": "text"
      },
      "cell_type": "markdown",
      "source": [
        "We will use 80% of the data for modeling and 20% for validation, as seen on test_size=0.2."
      ]
    },
    {
      "metadata": {
        "id": "v8H9vRERXlup",
        "colab_type": "code",
        "colab": {
          "autoexec": {
            "startup": false,
            "wait_interval": 0
          }
        }
      },
      "cell_type": "code",
      "source": [
        "# Test size = 0.2 means that our dataset was split 80% / 20%\n",
        "# specify the random seed = 7: Because the split of the data is random, we want to ensure that the results are reproducible.\n",
        "from sklearn.model_selection import train_test_split\n",
        "\n",
        "X_train, X_test, y_train, y_test = train_test_split(X, y, test_size=0.2, random_state=7)"
      ],
      "execution_count": 0,
      "outputs": []
    },
    {
      "metadata": {
        "id": "Lem45rkgXpC5",
        "colab_type": "code",
        "colab": {
          "autoexec": {
            "startup": false,
            "wait_interval": 0
          },
          "base_uri": "https://localhost:8080/",
          "height": 51
        },
        "outputId": "bc9cb74f-e67c-4cf4-a205-8e818eff6dc6",
        "executionInfo": {
          "status": "ok",
          "timestamp": 1526389795457,
          "user_tz": -60,
          "elapsed": 485,
          "user": {
            "displayName": "Francisca Dias",
            "photoUrl": "//lh4.googleusercontent.com/-xgs_qST2Bio/AAAAAAAAAAI/AAAAAAAAAAc/1hYdCEXWVto/s50-c-k-no/photo.jpg",
            "userId": "107609291921208954029"
          }
        }
      },
      "cell_type": "code",
      "source": [
        "print (X_train.shape, y_train.shape)\n",
        "print (X_test.shape, y_test.shape)"
      ],
      "execution_count": 82,
      "outputs": [
        {
          "output_type": "stream",
          "text": [
            "((2666, 17), (2666, 1))\n",
            "((667, 17), (667, 1))\n"
          ],
          "name": "stdout"
        }
      ]
    },
    {
      "metadata": {
        "id": "bKMZVVdVYFhX",
        "colab_type": "text"
      },
      "cell_type": "markdown",
      "source": [
        "Remember from above, our initial dataset has 3333 observations.\n",
        "\n",
        "By splitting the data by 80/20, we get 2666 observations for the train data, and 667 observations for the test data.\n",
        "\n",
        "On X our independent variable matrix, we seill have 17 features or predictors.\n",
        "\n",
        "On y, our dependent variable, the one we are trying to predict, we only have one feature, which is the output, churn/not churn. This is a vector, and not a matrix, since this only contains the prediction values from our initial dataset."
      ]
    },
    {
      "metadata": {
        "id": "OOrigOKLYJwK",
        "colab_type": "text"
      },
      "cell_type": "markdown",
      "source": [
        "**Algorithms for Classification Problems:**"
      ]
    },
    {
      "metadata": {
        "id": "4D5zYDU0YNWI",
        "colab_type": "text"
      },
      "cell_type": "markdown",
      "source": [
        "** Logistic Regression (LR)\n",
        "\n",
        "\n",
        "** Linear Discriminant Analysis (LDA)\n",
        "\n",
        "\n",
        "** Classification and Regression Trees (CART)\n",
        "\n",
        "\n",
        "** Support Vector Machines (SVM)\n",
        "\n",
        "\n",
        "** Gaussian Naive Bayes (NB)\n",
        "\n",
        "\n",
        "** k-Nearest Neighbors (KNN)"
      ]
    },
    {
      "metadata": {
        "id": "iaz_c0mlYTv6",
        "colab_type": "text"
      },
      "cell_type": "markdown",
      "source": [
        "**The process is as follows:**"
      ]
    },
    {
      "metadata": {
        "id": "WMuXvhmnYaux",
        "colab_type": "text"
      },
      "cell_type": "markdown",
      "source": [
        "* Import the relevant class\n",
        "\n",
        "\n",
        "* Define model/Instantiate the estimator\n",
        "\n",
        "\n",
        "* Fit the model on the training data: model training, where model learns the relationship between the features and response\n",
        "\n",
        "\n",
        "* After fitting the model we will try to predict on the test data (new observations).\n",
        "\n",
        "\n",
        "* We will print these predictions for all models.\n",
        "\n",
        "\n",
        "* Print the accuracy score for each model."
      ]
    },
    {
      "metadata": {
        "id": "It8PVhSlYiXT",
        "colab_type": "text"
      },
      "cell_type": "markdown",
      "source": [
        "###  Logistic Regression (LR)"
      ]
    },
    {
      "metadata": {
        "id": "bC3fk50zYj6X",
        "colab_type": "code",
        "colab": {
          "autoexec": {
            "startup": false,
            "wait_interval": 0
          },
          "base_uri": "https://localhost:8080/",
          "height": 68
        },
        "outputId": "5267ade6-2f29-4c39-f226-78d1b4ca0a70",
        "executionInfo": {
          "status": "ok",
          "timestamp": 1526389796776,
          "user_tz": -60,
          "elapsed": 1217,
          "user": {
            "displayName": "Francisca Dias",
            "photoUrl": "//lh4.googleusercontent.com/-xgs_qST2Bio/AAAAAAAAAAI/AAAAAAAAAAc/1hYdCEXWVto/s50-c-k-no/photo.jpg",
            "userId": "107609291921208954029"
          }
        }
      },
      "cell_type": "code",
      "source": [
        "# Import the relevant class\n",
        "from sklearn.linear_model import LogisticRegression as LR\n",
        "\n",
        "# Define model/Instantiate the estimator\n",
        "lr = LR()\n",
        "\n",
        "# Fit model: pass two argumnets: the feature matrix X and the response vector y\n",
        "# .ravel() is a library-level function that converts to a 1d array (before y was column-vector)\n",
        "lr_model = lr.fit(X_train, y_train.ravel())\n",
        "\n",
        "# get predicted values on test data (or new data)\n",
        "predictions_lr = lr.predict(X_test)\n",
        "\n",
        "#by default, it assumes accuracy score\n",
        "print(predictions_lr[0:40])\n",
        "print(lr_model.score(X_test, y_test))"
      ],
      "execution_count": 83,
      "outputs": [
        {
          "output_type": "stream",
          "text": [
            "[0. 0. 0. 0. 0. 0. 0. 1. 0. 0. 0. 0. 0. 0. 0. 0. 0. 0. 0. 1. 0. 0. 1. 0.\n",
            " 0. 1. 0. 0. 0. 0. 0. 0. 0. 0. 0. 0. 0. 0. 0. 0.]\n",
            "0.8545727136431784\n"
          ],
          "name": "stdout"
        }
      ]
    },
    {
      "metadata": {
        "id": "J-T49DATY925",
        "colab_type": "text"
      },
      "cell_type": "markdown",
      "source": [
        "**From here I will aggregate all algorithms together**"
      ]
    },
    {
      "metadata": {
        "id": "8yvXTUr0ZIq3",
        "colab_type": "code",
        "colab": {
          "autoexec": {
            "startup": false,
            "wait_interval": 0
          }
        }
      },
      "cell_type": "code",
      "source": [
        "#Import all algorithms\n",
        "from sklearn.discriminant_analysis import LinearDiscriminantAnalysis as LDA\n",
        "from sklearn.tree import DecisionTreeClassifier as CART\n",
        "from sklearn.svm import SVC as SVM\n",
        "from sklearn.naive_bayes import GaussianNB as NB\n",
        "from sklearn.neighbors import KNeighborsClassifier as KNN\n"
      ],
      "execution_count": 0,
      "outputs": []
    },
    {
      "metadata": {
        "id": "tp9hRu0CZXm2",
        "colab_type": "code",
        "colab": {
          "autoexec": {
            "startup": false,
            "wait_interval": 0
          }
        }
      },
      "cell_type": "code",
      "source": [
        "# Define model for each algorithm\n",
        "\n",
        "lda = LDA()\n",
        "cart = CART()\n",
        "svm = SVM()\n",
        "nb = NB()\n",
        "knn = KNN()\n"
      ],
      "execution_count": 0,
      "outputs": []
    },
    {
      "metadata": {
        "id": "s_l90Zt3Z9VY",
        "colab_type": "code",
        "colab": {
          "autoexec": {
            "startup": false,
            "wait_interval": 0
          }
        }
      },
      "cell_type": "code",
      "source": [
        "# Fit model/Instantiate the estimator\n",
        "# Fit model: pass two argumnets: the feature matrix X and the response vector y\n",
        "# .ravel() is a library-level function that converts to a 1d array (before y was column-vector)\n",
        "\n",
        "\n",
        "lda_model = lda.fit(X_train, y_train.ravel())\n",
        "cart_model = cart.fit(X_train, y_train.ravel())\n",
        "svm_model = svm.fit(X_train, y_train.ravel())\n",
        "nb_model = nb.fit(X_train, y_train.ravel())\n",
        "knn_model = knn.fit(X_train, y_train.ravel())"
      ],
      "execution_count": 0,
      "outputs": []
    },
    {
      "metadata": {
        "id": "Qg-_oUApaL0J",
        "colab_type": "code",
        "colab": {
          "autoexec": {
            "startup": false,
            "wait_interval": 0
          }
        }
      },
      "cell_type": "code",
      "source": [
        "# get predicted values on test data (or new data)\n",
        "\n",
        "\n",
        "predictions_lda = lda.predict(X_test)\n",
        "predictions_cart = cart.predict(X_test)\n",
        "predictions_svm = svm.predict(X_test)\n",
        "predictions_nb = nb.predict(X_test)\n",
        "predictions_knn = knn.predict(X_test)"
      ],
      "execution_count": 0,
      "outputs": []
    },
    {
      "metadata": {
        "id": "eyGIlnpBavqM",
        "colab_type": "code",
        "colab": {
          "autoexec": {
            "startup": false,
            "wait_interval": 0
          },
          "base_uri": "https://localhost:8080/",
          "height": 255
        },
        "outputId": "f23e10a4-313e-406d-a9d9-45587da59a94",
        "executionInfo": {
          "status": "ok",
          "timestamp": 1526389800639,
          "user_tz": -60,
          "elapsed": 531,
          "user": {
            "displayName": "Francisca Dias",
            "photoUrl": "//lh4.googleusercontent.com/-xgs_qST2Bio/AAAAAAAAAAI/AAAAAAAAAAc/1hYdCEXWVto/s50-c-k-no/photo.jpg",
            "userId": "107609291921208954029"
          }
        }
      },
      "cell_type": "code",
      "source": [
        "#by default, it assumes accuracy score\n",
        "\n",
        "\n",
        "print(predictions_lda[0:40])\n",
        "print(lda_model.score(X_test, y_test))\n",
        "\n",
        "print(predictions_cart[0:40])\n",
        "print(cart_model.score(X_test, y_test))\n",
        "\n",
        "print(predictions_svm[0:40])\n",
        "print(svm_model.score(X_test, y_test))\n",
        "\n",
        "print(predictions_nb[0:40])\n",
        "print(nb_model.score(X_test, y_test))\n",
        "\n",
        "print(predictions_knn[0:5])\n",
        "print(knn_model.score(X_test, y_test))"
      ],
      "execution_count": 88,
      "outputs": [
        {
          "output_type": "stream",
          "text": [
            "[0. 0. 0. 0. 0. 1. 0. 1. 0. 0. 0. 0. 0. 0. 0. 0. 0. 0. 0. 0. 0. 0. 1. 0.\n",
            " 0. 1. 0. 0. 0. 0. 0. 0. 0. 0. 0. 0. 0. 0. 0. 0.]\n",
            "0.8500749625187406\n",
            "[0. 0. 0. 0. 0. 0. 0. 1. 0. 0. 1. 0. 0. 0. 0. 0. 0. 0. 0. 1. 0. 0. 0. 0.\n",
            " 0. 0. 0. 0. 0. 0. 0. 0. 0. 0. 1. 0. 1. 0. 0. 0.]\n",
            "0.9085457271364318\n",
            "[0. 0. 0. 0. 0. 0. 0. 0. 0. 0. 0. 0. 0. 0. 0. 0. 0. 0. 0. 0. 0. 0. 0. 0.\n",
            " 0. 0. 0. 0. 0. 0. 0. 0. 0. 0. 0. 0. 0. 0. 0. 0.]\n",
            "0.848575712143928\n",
            "[0. 0. 0. 0. 0. 1. 0. 1. 0. 0. 0. 0. 0. 0. 0. 0. 0. 0. 0. 1. 0. 0. 1. 0.\n",
            " 0. 1. 0. 0. 0. 0. 0. 0. 0. 0. 1. 0. 0. 0. 0. 0.]\n",
            "0.863568215892054\n",
            "[0. 0. 0. 0. 0.]\n",
            "0.8650674662668666\n"
          ],
          "name": "stdout"
        }
      ]
    },
    {
      "metadata": {
        "id": "dnW7LEV4bOzx",
        "colab_type": "text"
      },
      "cell_type": "markdown",
      "source": [
        "### Summary of classification models in terms of metric: accuracy"
      ]
    },
    {
      "metadata": {
        "id": "0uQTehp9bPZu",
        "colab_type": "code",
        "colab": {
          "autoexec": {
            "startup": false,
            "wait_interval": 0
          },
          "base_uri": "https://localhost:8080/",
          "height": 119
        },
        "outputId": "39d24465-3030-4cde-9ffa-0e836f553e57",
        "executionInfo": {
          "status": "ok",
          "timestamp": 1526389801260,
          "user_tz": -60,
          "elapsed": 440,
          "user": {
            "displayName": "Francisca Dias",
            "photoUrl": "//lh4.googleusercontent.com/-xgs_qST2Bio/AAAAAAAAAAI/AAAAAAAAAAc/1hYdCEXWVto/s50-c-k-no/photo.jpg",
            "userId": "107609291921208954029"
          }
        }
      },
      "cell_type": "code",
      "source": [
        "print(\"Logistic Regression (LR) Accuracy is\" , round(lr_model.score(X_test, y_test)*100,2), \"%\")\n",
        "\n",
        "print(\"Linear Discriminant Analysis (LDA) Accuracy is\" , round(lda_model.score(X_test, y_test)*100,2), \"%\")\n",
        "\n",
        "print(\"Classification and Regression Trees (CART) Accuracy is\" , round(cart_model.score(X_test, y_test)*100,2), \"%\")\n",
        "\n",
        "print(\"Support Vector Machines (SVM) Accuracy is\" , round(svm_model.score(X_test, y_test)*100,2), \"%\")\n",
        "\n",
        "print(\"Gaussian Naive Bayes (NB) Accuracy is\" , round(nb_model.score(X_test, y_test)*100,2), \"%\")\n",
        ", \n",
        "print(\"k-Nearest Neighbors (KNN) Accuracy is\" , round(knn_model.score(X_test, y_test)*100,2), \"%\")"
      ],
      "execution_count": 89,
      "outputs": [
        {
          "output_type": "stream",
          "text": [
            "('Logistic Regression (LR) Accuracy is', 85.46, '%')\n",
            "('Linear Discriminant Analysis (LDA) Accuracy is', 85.01, '%')\n",
            "('Classification and Regression Trees (CART) Accuracy is', 90.85, '%')\n",
            "('Support Vector Machines (SVM) Accuracy is', 84.86, '%')\n",
            "('Gaussian Naive Bayes (NB) Accuracy is', 86.36, '%')\n",
            "('k-Nearest Neighbors (KNN) Accuracy is', 86.51, '%')\n"
          ],
          "name": "stdout"
        }
      ]
    },
    {
      "metadata": {
        "id": "ngBxhCekbis9",
        "colab_type": "text"
      },
      "cell_type": "markdown",
      "source": [
        "**Classification and Regression Trees** had the **highest accuracy score.**"
      ]
    },
    {
      "metadata": {
        "id": "DKvSNXddbpzf",
        "colab_type": "text"
      },
      "cell_type": "markdown",
      "source": [
        "## Confusion Matrix"
      ]
    },
    {
      "metadata": {
        "id": "vnCHhr326e2j",
        "colab_type": "text"
      },
      "cell_type": "markdown",
      "source": [
        "* **Confusion Matrix** will decompose all test results into **True Positive, True Negative, False Positive, False Negative**\n",
        "\n",
        "* Accuracy as a measure of (TP + TN ) / Total predictions\n",
        "\n",
        "* Sensitivity might be a better metric: TP / Actual Yes"
      ]
    },
    {
      "metadata": {
        "id": "6foCuxSo6jOa",
        "colab_type": "text"
      },
      "cell_type": "markdown",
      "source": [
        "**TN - True negatives :** we predicted a costumer would not churn and they did not churn.\n",
        "\n",
        "**FP - False positives :** We predicted a costumer would churn, but they did not.\n",
        "\n",
        "**FN - False negatives :** we predicted a costumer would not churn and they actually churn.\n",
        "\n",
        "**TP - True positives :** we predicted a costumer churn and they actually churn."
      ]
    },
    {
      "metadata": {
        "id": "L0UrxOwkd7lp",
        "colab_type": "code",
        "colab": {
          "autoexec": {
            "startup": false,
            "wait_interval": 0
          }
        }
      },
      "cell_type": "code",
      "source": [
        "# the sum of all observations is the number of test observations\n",
        "# more expensive to predict that a costumer did not churn, and it actually did churn\n",
        "from sklearn.metrics import confusion_matrix"
      ],
      "execution_count": 0,
      "outputs": []
    },
    {
      "metadata": {
        "id": "N8Kv4tfc6rTD",
        "colab_type": "code",
        "colab": {
          "autoexec": {
            "startup": false,
            "wait_interval": 0
          },
          "base_uri": "https://localhost:8080/",
          "height": 111
        },
        "outputId": "c2434ecc-665b-4c82-8e44-d6414ccb8fd1",
        "executionInfo": {
          "status": "ok",
          "timestamp": 1526389802364,
          "user_tz": -60,
          "elapsed": 481,
          "user": {
            "displayName": "Francisca Dias",
            "photoUrl": "//lh4.googleusercontent.com/-xgs_qST2Bio/AAAAAAAAAAI/AAAAAAAAAAc/1hYdCEXWVto/s50-c-k-no/photo.jpg",
            "userId": "107609291921208954029"
          }
        }
      },
      "cell_type": "code",
      "source": [
        "confusion_matrix_lr = pd.DataFrame(\n",
        "    confusion_matrix(y_test, predictions_lr), \n",
        "    columns=[\"Predicted False\", \"Predicted True\"], \n",
        "    index=[\"Actual False\", \"Actual True\"]\n",
        ")\n",
        "confusion_matrix_lr"
      ],
      "execution_count": 91,
      "outputs": [
        {
          "output_type": "execute_result",
          "data": {
            "text/html": [
              "<div>\n",
              "<style scoped>\n",
              "    .dataframe tbody tr th:only-of-type {\n",
              "        vertical-align: middle;\n",
              "    }\n",
              "\n",
              "    .dataframe tbody tr th {\n",
              "        vertical-align: top;\n",
              "    }\n",
              "\n",
              "    .dataframe thead th {\n",
              "        text-align: right;\n",
              "    }\n",
              "</style>\n",
              "<table border=\"1\" class=\"dataframe\">\n",
              "  <thead>\n",
              "    <tr style=\"text-align: right;\">\n",
              "      <th></th>\n",
              "      <th>Predicted False</th>\n",
              "      <th>Predicted True</th>\n",
              "    </tr>\n",
              "  </thead>\n",
              "  <tbody>\n",
              "    <tr>\n",
              "      <th>Actual False</th>\n",
              "      <td>556</td>\n",
              "      <td>10</td>\n",
              "    </tr>\n",
              "    <tr>\n",
              "      <th>Actual True</th>\n",
              "      <td>87</td>\n",
              "      <td>14</td>\n",
              "    </tr>\n",
              "  </tbody>\n",
              "</table>\n",
              "</div>"
            ],
            "text/plain": [
              "              Predicted False  Predicted True\n",
              "Actual False              556              10\n",
              "Actual True                87              14"
            ]
          },
          "metadata": {
            "tags": []
          },
          "execution_count": 91
        }
      ]
    },
    {
      "metadata": {
        "id": "W3giHb9F6rbb",
        "colab_type": "code",
        "colab": {
          "autoexec": {
            "startup": false,
            "wait_interval": 0
          },
          "base_uri": "https://localhost:8080/",
          "height": 111
        },
        "outputId": "99b368c9-d839-41b8-a200-cc7044456851",
        "executionInfo": {
          "status": "ok",
          "timestamp": 1526389802924,
          "user_tz": -60,
          "elapsed": 512,
          "user": {
            "displayName": "Francisca Dias",
            "photoUrl": "//lh4.googleusercontent.com/-xgs_qST2Bio/AAAAAAAAAAI/AAAAAAAAAAc/1hYdCEXWVto/s50-c-k-no/photo.jpg",
            "userId": "107609291921208954029"
          }
        }
      },
      "cell_type": "code",
      "source": [
        "confusion_matrix_lda = pd.DataFrame(\n",
        "    confusion_matrix(y_test, predictions_lda), \n",
        "    columns=[\"Predicted False\", \"Predicted True\"], \n",
        "    index=[\"Actual False\", \"Actual True\"]\n",
        ")\n",
        "confusion_matrix_lda"
      ],
      "execution_count": 92,
      "outputs": [
        {
          "output_type": "execute_result",
          "data": {
            "text/html": [
              "<div>\n",
              "<style scoped>\n",
              "    .dataframe tbody tr th:only-of-type {\n",
              "        vertical-align: middle;\n",
              "    }\n",
              "\n",
              "    .dataframe tbody tr th {\n",
              "        vertical-align: top;\n",
              "    }\n",
              "\n",
              "    .dataframe thead th {\n",
              "        text-align: right;\n",
              "    }\n",
              "</style>\n",
              "<table border=\"1\" class=\"dataframe\">\n",
              "  <thead>\n",
              "    <tr style=\"text-align: right;\">\n",
              "      <th></th>\n",
              "      <th>Predicted False</th>\n",
              "      <th>Predicted True</th>\n",
              "    </tr>\n",
              "  </thead>\n",
              "  <tbody>\n",
              "    <tr>\n",
              "      <th>Actual False</th>\n",
              "      <td>545</td>\n",
              "      <td>21</td>\n",
              "    </tr>\n",
              "    <tr>\n",
              "      <th>Actual True</th>\n",
              "      <td>79</td>\n",
              "      <td>22</td>\n",
              "    </tr>\n",
              "  </tbody>\n",
              "</table>\n",
              "</div>"
            ],
            "text/plain": [
              "              Predicted False  Predicted True\n",
              "Actual False              545              21\n",
              "Actual True                79              22"
            ]
          },
          "metadata": {
            "tags": []
          },
          "execution_count": 92
        }
      ]
    },
    {
      "metadata": {
        "id": "gVuz5bLW6rjt",
        "colab_type": "code",
        "colab": {
          "autoexec": {
            "startup": false,
            "wait_interval": 0
          },
          "base_uri": "https://localhost:8080/",
          "height": 111
        },
        "outputId": "786f0dbe-0646-4a7c-befb-8a78cd659cae",
        "executionInfo": {
          "status": "ok",
          "timestamp": 1526389803506,
          "user_tz": -60,
          "elapsed": 521,
          "user": {
            "displayName": "Francisca Dias",
            "photoUrl": "//lh4.googleusercontent.com/-xgs_qST2Bio/AAAAAAAAAAI/AAAAAAAAAAc/1hYdCEXWVto/s50-c-k-no/photo.jpg",
            "userId": "107609291921208954029"
          }
        }
      },
      "cell_type": "code",
      "source": [
        "confusion_matrix_cart = pd.DataFrame(\n",
        "    confusion_matrix(y_test, predictions_cart), \n",
        "    columns=[\"Predicted False\", \"Predicted True\"], \n",
        "    index=[\"Actual False\", \"Actual True\"]\n",
        ")\n",
        "confusion_matrix_cart"
      ],
      "execution_count": 93,
      "outputs": [
        {
          "output_type": "execute_result",
          "data": {
            "text/html": [
              "<div>\n",
              "<style scoped>\n",
              "    .dataframe tbody tr th:only-of-type {\n",
              "        vertical-align: middle;\n",
              "    }\n",
              "\n",
              "    .dataframe tbody tr th {\n",
              "        vertical-align: top;\n",
              "    }\n",
              "\n",
              "    .dataframe thead th {\n",
              "        text-align: right;\n",
              "    }\n",
              "</style>\n",
              "<table border=\"1\" class=\"dataframe\">\n",
              "  <thead>\n",
              "    <tr style=\"text-align: right;\">\n",
              "      <th></th>\n",
              "      <th>Predicted False</th>\n",
              "      <th>Predicted True</th>\n",
              "    </tr>\n",
              "  </thead>\n",
              "  <tbody>\n",
              "    <tr>\n",
              "      <th>Actual False</th>\n",
              "      <td>532</td>\n",
              "      <td>34</td>\n",
              "    </tr>\n",
              "    <tr>\n",
              "      <th>Actual True</th>\n",
              "      <td>27</td>\n",
              "      <td>74</td>\n",
              "    </tr>\n",
              "  </tbody>\n",
              "</table>\n",
              "</div>"
            ],
            "text/plain": [
              "              Predicted False  Predicted True\n",
              "Actual False              532              34\n",
              "Actual True                27              74"
            ]
          },
          "metadata": {
            "tags": []
          },
          "execution_count": 93
        }
      ]
    },
    {
      "metadata": {
        "id": "zgtuzTEM6rup",
        "colab_type": "code",
        "colab": {
          "autoexec": {
            "startup": false,
            "wait_interval": 0
          },
          "base_uri": "https://localhost:8080/",
          "height": 111
        },
        "outputId": "0452517e-b615-4597-8f85-08bcbe5d0efe",
        "executionInfo": {
          "status": "ok",
          "timestamp": 1526389804302,
          "user_tz": -60,
          "elapsed": 738,
          "user": {
            "displayName": "Francisca Dias",
            "photoUrl": "//lh4.googleusercontent.com/-xgs_qST2Bio/AAAAAAAAAAI/AAAAAAAAAAc/1hYdCEXWVto/s50-c-k-no/photo.jpg",
            "userId": "107609291921208954029"
          }
        }
      },
      "cell_type": "code",
      "source": [
        "confusion_matrix_svm = pd.DataFrame(\n",
        "    confusion_matrix(y_test, predictions_svm), \n",
        "    columns=[\"Predicted False\", \"Predicted True\"], \n",
        "    index=[\"Actual False\", \"Actual True\"]\n",
        ")\n",
        "confusion_matrix_svm"
      ],
      "execution_count": 94,
      "outputs": [
        {
          "output_type": "execute_result",
          "data": {
            "text/html": [
              "<div>\n",
              "<style scoped>\n",
              "    .dataframe tbody tr th:only-of-type {\n",
              "        vertical-align: middle;\n",
              "    }\n",
              "\n",
              "    .dataframe tbody tr th {\n",
              "        vertical-align: top;\n",
              "    }\n",
              "\n",
              "    .dataframe thead th {\n",
              "        text-align: right;\n",
              "    }\n",
              "</style>\n",
              "<table border=\"1\" class=\"dataframe\">\n",
              "  <thead>\n",
              "    <tr style=\"text-align: right;\">\n",
              "      <th></th>\n",
              "      <th>Predicted False</th>\n",
              "      <th>Predicted True</th>\n",
              "    </tr>\n",
              "  </thead>\n",
              "  <tbody>\n",
              "    <tr>\n",
              "      <th>Actual False</th>\n",
              "      <td>566</td>\n",
              "      <td>0</td>\n",
              "    </tr>\n",
              "    <tr>\n",
              "      <th>Actual True</th>\n",
              "      <td>101</td>\n",
              "      <td>0</td>\n",
              "    </tr>\n",
              "  </tbody>\n",
              "</table>\n",
              "</div>"
            ],
            "text/plain": [
              "              Predicted False  Predicted True\n",
              "Actual False              566               0\n",
              "Actual True               101               0"
            ]
          },
          "metadata": {
            "tags": []
          },
          "execution_count": 94
        }
      ]
    },
    {
      "metadata": {
        "id": "i-W2zy5n6r3l",
        "colab_type": "code",
        "colab": {
          "autoexec": {
            "startup": false,
            "wait_interval": 0
          },
          "base_uri": "https://localhost:8080/",
          "height": 111
        },
        "outputId": "375f5341-97de-4a87-cb68-15e17ddcf015",
        "executionInfo": {
          "status": "ok",
          "timestamp": 1526389805069,
          "user_tz": -60,
          "elapsed": 706,
          "user": {
            "displayName": "Francisca Dias",
            "photoUrl": "//lh4.googleusercontent.com/-xgs_qST2Bio/AAAAAAAAAAI/AAAAAAAAAAc/1hYdCEXWVto/s50-c-k-no/photo.jpg",
            "userId": "107609291921208954029"
          }
        }
      },
      "cell_type": "code",
      "source": [
        "confusion_matrix_nb = pd.DataFrame(\n",
        "    confusion_matrix(y_test, predictions_nb), \n",
        "    columns=[\"Predicted False\", \"Predicted True\"], \n",
        "    index=[\"Actual False\", \"Actual True\"]\n",
        ")\n",
        "confusion_matrix_nb"
      ],
      "execution_count": 95,
      "outputs": [
        {
          "output_type": "execute_result",
          "data": {
            "text/html": [
              "<div>\n",
              "<style scoped>\n",
              "    .dataframe tbody tr th:only-of-type {\n",
              "        vertical-align: middle;\n",
              "    }\n",
              "\n",
              "    .dataframe tbody tr th {\n",
              "        vertical-align: top;\n",
              "    }\n",
              "\n",
              "    .dataframe thead th {\n",
              "        text-align: right;\n",
              "    }\n",
              "</style>\n",
              "<table border=\"1\" class=\"dataframe\">\n",
              "  <thead>\n",
              "    <tr style=\"text-align: right;\">\n",
              "      <th></th>\n",
              "      <th>Predicted False</th>\n",
              "      <th>Predicted True</th>\n",
              "    </tr>\n",
              "  </thead>\n",
              "  <tbody>\n",
              "    <tr>\n",
              "      <th>Actual False</th>\n",
              "      <td>527</td>\n",
              "      <td>39</td>\n",
              "    </tr>\n",
              "    <tr>\n",
              "      <th>Actual True</th>\n",
              "      <td>52</td>\n",
              "      <td>49</td>\n",
              "    </tr>\n",
              "  </tbody>\n",
              "</table>\n",
              "</div>"
            ],
            "text/plain": [
              "              Predicted False  Predicted True\n",
              "Actual False              527              39\n",
              "Actual True                52              49"
            ]
          },
          "metadata": {
            "tags": []
          },
          "execution_count": 95
        }
      ]
    },
    {
      "metadata": {
        "id": "vbeleXwp6r_5",
        "colab_type": "code",
        "colab": {
          "autoexec": {
            "startup": false,
            "wait_interval": 0
          },
          "base_uri": "https://localhost:8080/",
          "height": 111
        },
        "outputId": "4708a364-9707-4706-b8a5-fdc53eb32578",
        "executionInfo": {
          "status": "ok",
          "timestamp": 1526389805627,
          "user_tz": -60,
          "elapsed": 479,
          "user": {
            "displayName": "Francisca Dias",
            "photoUrl": "//lh4.googleusercontent.com/-xgs_qST2Bio/AAAAAAAAAAI/AAAAAAAAAAc/1hYdCEXWVto/s50-c-k-no/photo.jpg",
            "userId": "107609291921208954029"
          }
        }
      },
      "cell_type": "code",
      "source": [
        "confusion_matrix_knn = pd.DataFrame(\n",
        "    confusion_matrix(y_test, predictions_knn), \n",
        "    columns=[\"Predicted False\", \"Predicted True\"], \n",
        "    index=[\"Actual False\", \"Actual True\"]\n",
        ")\n",
        "confusion_matrix_knn"
      ],
      "execution_count": 96,
      "outputs": [
        {
          "output_type": "execute_result",
          "data": {
            "text/html": [
              "<div>\n",
              "<style scoped>\n",
              "    .dataframe tbody tr th:only-of-type {\n",
              "        vertical-align: middle;\n",
              "    }\n",
              "\n",
              "    .dataframe tbody tr th {\n",
              "        vertical-align: top;\n",
              "    }\n",
              "\n",
              "    .dataframe thead th {\n",
              "        text-align: right;\n",
              "    }\n",
              "</style>\n",
              "<table border=\"1\" class=\"dataframe\">\n",
              "  <thead>\n",
              "    <tr style=\"text-align: right;\">\n",
              "      <th></th>\n",
              "      <th>Predicted False</th>\n",
              "      <th>Predicted True</th>\n",
              "    </tr>\n",
              "  </thead>\n",
              "  <tbody>\n",
              "    <tr>\n",
              "      <th>Actual False</th>\n",
              "      <td>551</td>\n",
              "      <td>15</td>\n",
              "    </tr>\n",
              "    <tr>\n",
              "      <th>Actual True</th>\n",
              "      <td>75</td>\n",
              "      <td>26</td>\n",
              "    </tr>\n",
              "  </tbody>\n",
              "</table>\n",
              "</div>"
            ],
            "text/plain": [
              "              Predicted False  Predicted True\n",
              "Actual False              551              15\n",
              "Actual True                75              26"
            ]
          },
          "metadata": {
            "tags": []
          },
          "execution_count": 96
        }
      ]
    },
    {
      "metadata": {
        "id": "ueH6qhsGelEZ",
        "colab_type": "text"
      },
      "cell_type": "markdown",
      "source": [
        "## 5. Present Results"
      ]
    },
    {
      "metadata": {
        "id": "IvwGmyax6XNB",
        "colab_type": "code",
        "colab": {
          "autoexec": {
            "startup": false,
            "wait_interval": 0
          }
        }
      },
      "cell_type": "code",
      "source": [
        "# Submissions can be printed to a csv (.to_csv('name.csv'))\n",
        "my_submission = pd.DataFrame(predictions_cart, columns=['predictions']).to_csv('prediction.csv')"
      ],
      "execution_count": 0,
      "outputs": []
    }
  ]
}